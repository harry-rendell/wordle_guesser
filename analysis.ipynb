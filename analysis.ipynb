{
 "cells": [
  {
   "cell_type": "code",
   "execution_count": 1,
   "id": "31810f2f",
   "metadata": {},
   "outputs": [],
   "source": [
    "import numpy as np\n",
    "import pandas as pd\n",
    "import matplotlib.pyplot as plt\n",
    "from time import time"
   ]
  },
  {
   "cell_type": "code",
   "execution_count": 2,
   "id": "66e6be77",
   "metadata": {},
   "outputs": [],
   "source": [
    "# import numpy as np\n",
    "# words = np.loadtxt('CSW.txt', dtype='str')\n",
    "# five_letter_words = np.array([word for word in words if len(word)==5])\n",
    "# np.savetxt('valid_words_2.txt',five_letter_words,fmt='%s')"
   ]
  },
  {
   "cell_type": "code",
   "execution_count": 2,
   "id": "a8b1a82b",
   "metadata": {},
   "outputs": [],
   "source": [
    "class wordle_testing():\n",
    "    def __init__(self, true):\n",
    "        self.valid_list = np.loadtxt('valid_guesses.txt', dtype='str')\n",
    "        self.true = true\n",
    "        \n",
    "    def check(self, guess):\n",
    "        \"\"\"\n",
    "        Gives wordle output based on guess\n",
    "\n",
    "        Parameters\n",
    "        ----------\n",
    "        guess : str\n",
    "            guessed word to be tested\n",
    "        true  : str\n",
    "            true word to be checked against\n",
    "\n",
    "        Returns\n",
    "        -------\n",
    "        5 character string of some combination of B, Y, G (black, yellow, green)\n",
    "        \"\"\"\n",
    "        output=np.array(list('BBBBB'))\n",
    "        occurrences_true  = {letter:self.true.count(letter) for letter in set(self.true)}\n",
    "        GY_guess = {letter:0 for letter in set(guess)}\n",
    "        for i, guess_letter in enumerate(guess):\n",
    "            # First past to decide which letters are green\n",
    "            if guess_letter == self.true[i]:\n",
    "                GY_guess[guess_letter] += 1\n",
    "                output[i]='G'\n",
    "        for i, guess_letter in enumerate(guess):\n",
    "            # Second pass to decide which letters are yellow\n",
    "            if output[i] != 'G':\n",
    "                if (guess_letter in self.true):\n",
    "                    if (GY_guess[guess_letter] < occurrences_true[guess_letter]): # cannot combine both if statements because guess letter may not occur in occurences_true\n",
    "                        GY_guess[guess_letter] += 1\n",
    "                        output[i] = 'Y'\n",
    "                else:\n",
    "                    output[i] = 'B'\n",
    "        return output[0]+output[1]+output[2]+output[3]+output[4]\n",
    "\n",
    "    \n",
    "    \n",
    "    "
   ]
  },
  {
   "cell_type": "code",
   "execution_count": 3,
   "id": "736a54b4",
   "metadata": {},
   "outputs": [],
   "source": [
    "def check(guess, true):\n",
    "    \"\"\"\n",
    "    Gives wordle output based on guess\n",
    "\n",
    "    Parameters\n",
    "    ----------\n",
    "    guess : str\n",
    "        guessed word to be tested\n",
    "    true  : str\n",
    "        true word to be checked against\n",
    "\n",
    "    Returns\n",
    "    -------\n",
    "    5 character string of some combination of B, Y, G (black, yellow, green)\n",
    "    \"\"\"\n",
    "    output=np.array(list('BBBBB'))\n",
    "    occurrences_true  = {letter:true.count(letter) for letter in set(true)}\n",
    "    GY_guess = {letter:0 for letter in set(guess)}\n",
    "    for i, guess_letter in enumerate(guess):\n",
    "        # First past to decide which letters are green\n",
    "        if guess_letter == true[i]:\n",
    "            GY_guess[guess_letter] += 1\n",
    "            output[i]='G'\n",
    "    for i, guess_letter in enumerate(guess):\n",
    "        # Second pass to decide which letters are yellow\n",
    "        if output[i] != 'G':\n",
    "            if (guess_letter in true):\n",
    "                if (GY_guess[guess_letter] < occurrences_true[guess_letter]): # cannot combine both if statements because guess letter may not occur in occurences_true\n",
    "                    GY_guess[guess_letter] += 1\n",
    "                    output[i] = 'Y'\n",
    "            else:\n",
    "                output[i] = 'B'\n",
    "    return output[0]+output[1]+output[2]+output[3]+output[4]\n"
   ]
  },
  {
   "cell_type": "code",
   "execution_count": 4,
   "id": "60381bd1",
   "metadata": {},
   "outputs": [],
   "source": [
    "class wordle_solver():\n",
    "    def __init__(self):\n",
    "        self.valid_words = np.loadtxt('valid_guesses.txt', dtype='str')\n",
    "        self.wordles = self.valid_words # a current list of possible wordles given guesses and outputs\n",
    "        self.all_wordles = np.loadtxt('wordles.txt', dtype='str')\n",
    "        \n",
    "    def update_possible_wordles(self, guess, output):\n",
    "        test = np.zeros(shape=(len(self.wordles)),dtype='<U5')\n",
    "        for i, word in enumerate(self.wordles):\n",
    "            test[i] = check(guess,word)\n",
    "        df = pd.DataFrame(data={'word':self.wordles,'output':test}, dtype='<U5').set_index('word')\n",
    "        self.wordles = df[df['output']==output].index.values\n",
    "        print(self.wordles)\n",
    "        print('number of possible wordles:',len(self.wordles))\n",
    "        \n",
    "    def calculate_std(self):\n",
    "        std = []\n",
    "        for j, word1 in enumerate(self.wordles):   \n",
    "            test = np.zeros(shape=(len(self.wordles)), dtype='<U5')\n",
    "            for i, word2 in enumerate(self.wordles):\n",
    "                test[i] = check(word1,word2)\n",
    "            df = pd.DataFrame(test, columns = ['output'], dtype='<U5')\n",
    "            a = df.groupby('output').size()\n",
    "            combinations = pd.read_csv('combinations.txt', names=['output'], index_col = 0, squeeze=True)\n",
    "            combinations['counts']=0\n",
    "            combinations.loc[a.index, 'counts'] = a.values\n",
    "            std.append(combinations.std()[0]) # correct std\n",
    "        \n",
    "        standard_dev = pd.DataFrame(data={'words':self.wordles,'std':std}).sort_values('std', ignore_index=True)\n",
    "        best_word = standard_dev.loc[0,'words']\n",
    "        print(standard_dev)\n",
    "        return best_word\n",
    "        \n",
    "        "
   ]
  },
  {
   "cell_type": "code",
   "execution_count": 5,
   "id": "f5c9fd7e",
   "metadata": {},
   "outputs": [],
   "source": [
    "ws = wordle_solver()"
   ]
  },
  {
   "cell_type": "code",
   "execution_count": 6,
   "id": "9ad1284a",
   "metadata": {},
   "outputs": [],
   "source": [
    "wordle = 'ROATE'"
   ]
  },
  {
   "cell_type": "markdown",
   "id": "1c7a3f5e",
   "metadata": {},
   "source": [
    "### Guess 1: "
   ]
  },
  {
   "cell_type": "code",
   "execution_count": 7,
   "id": "d6c74498",
   "metadata": {},
   "outputs": [],
   "source": [
    "guess1 = 'ROATE'\n",
    "# output = check(guess1, wordle)\n",
    "output = 'BBBYB' "
   ]
  },
  {
   "cell_type": "code",
   "execution_count": 8,
   "id": "6c14b0ba",
   "metadata": {},
   "outputs": [
    {
     "name": "stdout",
     "output_type": "stream",
     "text": [
      "['BIGHT' 'BINIT' 'BITCH' 'BITSY' 'BLIST' 'BLUNT' 'BUILT' 'BUIST' 'BUNDT'\n",
      " 'BUTCH' 'BUTUT' 'BUTYL' 'CINCT' 'CLIFT' 'CLINT' 'CLIPT' 'CUBIT' 'CUNIT'\n",
      " 'CUTCH' 'CUTIN' 'CUTIS' 'CUTUP' 'CWTCH' 'DICHT' 'DIDST' 'DIGHT' 'DIGIT'\n",
      " 'DITCH' 'DITSY' 'DITZY' 'DIXIT' 'DUTCH' 'FIGHT' 'FITCH' 'FITLY' 'FIXIT'\n",
      " 'FLINT' 'FLUYT' 'GITCH' 'GIUST' 'GLIFT' 'GLINT' 'GUILT' 'GUTSY' 'HIGHT'\n",
      " 'HITCH' 'HUTCH' 'ICTIC' 'ICTUS' 'IMMIT' 'INCUT' 'INNIT' 'INPUT' 'INTIL'\n",
      " 'INTIS' 'INUST' 'INWIT' 'ITCHY' 'KIGHT' 'KITHS' 'KITUL' 'KUTCH' 'KUTIS'\n",
      " 'KUTUS' 'KYDST' 'LICHT' 'LICIT' 'LIGHT' 'LIMIT' 'LITHS' 'LYTIC' 'MICHT'\n",
      " 'MIDST' 'MIGHT' 'MITCH' 'MITIS' 'MUIST' 'MULCT' 'MUSIT' 'MUTCH' 'MUTIS'\n",
      " 'MYTHI' 'MYTHS' 'MYTHY' 'NICHT' 'NIGHT' 'NITID' 'NUTSY' 'PHPHT' 'PIGHT'\n",
      " 'PIPIT' 'PITCH' 'PITHS' 'PITHY' 'PUTID' 'QUBIT' 'QUILT' 'QUINT' 'QUIST'\n",
      " 'SCUFT' 'SHIFT' 'SHIST' 'SHTIK' 'SHTUM' 'SHTUP' 'SHUNT' 'SICHT' 'SIGHT'\n",
      " 'SITUP' 'SITUS' 'SKINT' 'SLIPT' 'SLUIT' 'SNIFT' 'SPILT' 'SPLIT' 'SQUIT'\n",
      " 'STICH' 'STICK' 'STIFF' 'STILB' 'STILL' 'STILT' 'STIMS' 'STIMY' 'STING'\n",
      " 'STINK' 'STINT' 'STIVY' 'STUBS' 'STUCK' 'STUDS' 'STUDY' 'STUFF' 'STULL'\n",
      " 'STULM' 'STUMM' 'STUMP' 'STUMS' 'STUNG' 'STUNK' 'STUNS' 'STUNT' 'STYLI'\n",
      " 'STYMY' 'SUINT' 'SWIFT' 'THICK' 'THIGH' 'THIGS' 'THILK' 'THILL' 'THING'\n",
      " 'THINK' 'THINS' 'THUDS' 'THUGS' 'THUMB' 'THUMP' 'THUNK' 'THYMI' 'THYMY'\n",
      " 'TICHY' 'TICKS' 'TICKY' 'TIDDY' 'TIFFS' 'TIGHT' 'TIKIS' 'TILLS' 'TILLY'\n",
      " 'TIMID' 'TIMPS' 'TINCT' 'TINDS' 'TINGS' 'TINKS' 'TINNY' 'TIPIS' 'TIPPY'\n",
      " 'TIPSY' 'TITCH' 'TITIS' 'TITUP' 'TIYIN' 'TIYNS' 'TIZZY' 'TUBBY' 'TUCKS'\n",
      " 'TUFFS' 'TUISM' 'TULIP' 'TULSI' 'TUMID' 'TUMMY' 'TUMPS' 'TUMPY' 'TUNDS'\n",
      " 'TUNGS' 'TUNIC' 'TUNNY' 'TUPIK' 'TUSHY' 'TUSKS' 'TUSKY' 'TUTUS' 'TWIGS'\n",
      " 'TWILL' 'TWILT' 'TWINK' 'TWINS' 'TWINY' 'TWIST' 'TWIXT' 'TYING' 'TYIYN'\n",
      " 'TYMPS' 'TYPIC' 'TYPPS' 'UNCUT' 'UNFIT' 'UNLIT' 'UNTIL' 'UNTIN' 'UNWIT'\n",
      " 'UPLIT' 'VISIT' 'WHIFT' 'WHIPT' 'WHIST' 'WIGHT' 'WISHT' 'WITCH' 'WITHS'\n",
      " 'WITHY' 'ZITIS' 'ZIZIT']\n",
      "number of possible wordles: 237\n"
     ]
    }
   ],
   "source": [
    "ws.update_possible_wordles(guess1, output)"
   ]
  },
  {
   "cell_type": "markdown",
   "id": "76bf1aa6",
   "metadata": {},
   "source": [
    "### Guess 2: "
   ]
  },
  {
   "cell_type": "code",
   "execution_count": 9,
   "id": "cf6e1ffc",
   "metadata": {},
   "outputs": [
    {
     "name": "stdout",
     "output_type": "stream",
     "text": [
      "     words       std\n",
      "0    SHUNT  2.672056\n",
      "1    SICHT  2.708917\n",
      "2    THINS  2.839983\n",
      "3    SUINT  2.873254\n",
      "4    TITIS  2.918912\n",
      "..     ...       ...\n",
      "232  THYMY  6.195123\n",
      "233  MYTHY  6.371376\n",
      "234  STYMY  6.563061\n",
      "235  PHPHT  6.784112\n",
      "236  CWTCH  7.223084\n",
      "\n",
      "[237 rows x 2 columns]\n"
     ]
    }
   ],
   "source": [
    "guess2 = ws.calculate_std()\n",
    "# output = check(guess2, wordle)\n",
    "# output"
   ]
  },
  {
   "cell_type": "code",
   "execution_count": 10,
   "id": "af28e875",
   "metadata": {},
   "outputs": [],
   "source": [
    "output = 'BYBBG'"
   ]
  },
  {
   "cell_type": "code",
   "execution_count": 11,
   "id": "c821bda3",
   "metadata": {},
   "outputs": [
    {
     "name": "stdout",
     "output_type": "stream",
     "text": [
      "['BIGHT' 'DICHT' 'DIGHT' 'FIGHT' 'HIGHT' 'KIGHT' 'LICHT' 'LIGHT' 'MICHT'\n",
      " 'MIGHT' 'PIGHT' 'TIGHT' 'WIGHT']\n",
      "number of possible wordles: 13\n"
     ]
    }
   ],
   "source": [
    "ws.update_possible_wordles(guess2, output)"
   ]
  },
  {
   "cell_type": "markdown",
   "id": "14b35b0f",
   "metadata": {},
   "source": [
    "### Guess 3: "
   ]
  },
  {
   "cell_type": "code",
   "execution_count": 12,
   "id": "7435a540",
   "metadata": {},
   "outputs": [
    {
     "name": "stdout",
     "output_type": "stream",
     "text": [
      "    words       std\n",
      "0   DICHT  0.597185\n",
      "1   DIGHT  0.597185\n",
      "2   LICHT  0.597185\n",
      "3   LIGHT  0.597185\n",
      "4   MICHT  0.597185\n",
      "5   MIGHT  0.597185\n",
      "6   BIGHT  0.610868\n",
      "7   FIGHT  0.610868\n",
      "8   HIGHT  0.610868\n",
      "9   KIGHT  0.610868\n",
      "10  PIGHT  0.610868\n",
      "11  TIGHT  0.610868\n",
      "12  WIGHT  0.610868\n"
     ]
    }
   ],
   "source": [
    "guess3 = ws.calculate_std()\n",
    "# output = check(guess3, wordle)\n",
    "# output"
   ]
  },
  {
   "cell_type": "code",
   "execution_count": 13,
   "id": "6276deee",
   "metadata": {},
   "outputs": [
    {
     "name": "stdout",
     "output_type": "stream",
     "text": [
      "[]\n",
      "number of possible wordles: 0\n"
     ]
    }
   ],
   "source": [
    "ws.update_possible_wordles(guess3, output)"
   ]
  },
  {
   "cell_type": "code",
   "execution_count": 12,
   "id": "9c86a364",
   "metadata": {},
   "outputs": [],
   "source": [
    "def calculate_std(wordles, valid):\n",
    "    std = []\n",
    "    for j, word1 in enumerate(valid):   \n",
    "        test = np.zeros(shape=(len(wordles)), dtype='<U5')\n",
    "        for i, word2 in enumerate(wordles):\n",
    "            test[i] = check(word1,word2)\n",
    "        df = pd.DataFrame(test, columns = ['output'], dtype='<U5')\n",
    "        a = df.groupby('output').size()\n",
    "        combinations = pd.read_csv('combinations.txt', names=['output'], index_col = 0, squeeze=True)\n",
    "        combinations['counts']=0\n",
    "        combinations.loc[a.index, 'counts'] = a.values\n",
    "        std.append(combinations.std()[0]) # correct std\n",
    "    \n",
    "    return pd.DataFrame(data={'words':valid,'std':std})"
   ]
  },
  {
   "cell_type": "code",
   "execution_count": 13,
   "id": "0222496c",
   "metadata": {},
   "outputs": [],
   "source": [
    "a = calculate_std(ws.all_wordles, ws.valid_words)"
   ]
  },
  {
   "cell_type": "code",
   "execution_count": 15,
   "id": "971235f4",
   "metadata": {},
   "outputs": [],
   "source": [
    "a = a.sort_values('std')"
   ]
  },
  {
   "cell_type": "code",
   "execution_count": 17,
   "id": "100bd188",
   "metadata": {},
   "outputs": [],
   "source": [
    "a.to_csv('std_reduced.csv',index=False)"
   ]
  },
  {
   "cell_type": "code",
   "execution_count": 172,
   "id": "aca51ce2",
   "metadata": {},
   "outputs": [],
   "source": [
    "def combinations(word, subset):\n",
    "    test = np.zeros(shape=(len(subset)), dtype='<U5')\n",
    "    for i, word2 in enumerate(subset):\n",
    "        test[i] = check(word,word2)\n",
    "    df = pd.DataFrame(test, columns = ['output'], dtype='<U5')\n",
    "    a = df.groupby('output').size()\n",
    "    combinations = pd.read_csv('combinations.txt', names=['output'], index_col = 0, squeeze=True)\n",
    "    combinations['counts']=0\n",
    "    combinations.loc[a.index, 'counts'] = a.values\n",
    "    return combinations"
   ]
  },
  {
   "cell_type": "code",
   "execution_count": 184,
   "id": "e771ac78",
   "metadata": {
    "collapsed": true,
    "jupyter": {
     "outputs_hidden": true
    }
   },
   "outputs": [
    {
     "data": {
      "text/html": [
       "<div>\n",
       "<style scoped>\n",
       "    .dataframe tbody tr th:only-of-type {\n",
       "        vertical-align: middle;\n",
       "    }\n",
       "\n",
       "    .dataframe tbody tr th {\n",
       "        vertical-align: top;\n",
       "    }\n",
       "\n",
       "    .dataframe thead th {\n",
       "        text-align: right;\n",
       "    }\n",
       "</style>\n",
       "<table border=\"1\" class=\"dataframe\">\n",
       "  <thead>\n",
       "    <tr style=\"text-align: right;\">\n",
       "      <th></th>\n",
       "      <th>words</th>\n",
       "      <th>std</th>\n",
       "    </tr>\n",
       "  </thead>\n",
       "  <tbody>\n",
       "    <tr>\n",
       "      <th>0</th>\n",
       "      <td>ROCKS</td>\n",
       "      <td>1.449908</td>\n",
       "    </tr>\n",
       "    <tr>\n",
       "      <th>1</th>\n",
       "      <td>ROLFS</td>\n",
       "      <td>1.376816</td>\n",
       "    </tr>\n",
       "    <tr>\n",
       "      <th>2</th>\n",
       "      <td>ROLLS</td>\n",
       "      <td>1.464089</td>\n",
       "    </tr>\n",
       "    <tr>\n",
       "      <th>3</th>\n",
       "      <td>ROMPS</td>\n",
       "      <td>1.340317</td>\n",
       "    </tr>\n",
       "    <tr>\n",
       "      <th>4</th>\n",
       "      <td>RONTS</td>\n",
       "      <td>1.045930</td>\n",
       "    </tr>\n",
       "    <tr>\n",
       "      <th>5</th>\n",
       "      <td>ROODS</td>\n",
       "      <td>1.217538</td>\n",
       "    </tr>\n",
       "    <tr>\n",
       "      <th>6</th>\n",
       "      <td>ROOFS</td>\n",
       "      <td>1.251017</td>\n",
       "    </tr>\n",
       "    <tr>\n",
       "      <th>7</th>\n",
       "      <td>ROOKS</td>\n",
       "      <td>1.169058</td>\n",
       "    </tr>\n",
       "    <tr>\n",
       "      <th>8</th>\n",
       "      <td>ROOMS</td>\n",
       "      <td>1.214140</td>\n",
       "    </tr>\n",
       "    <tr>\n",
       "      <th>9</th>\n",
       "      <td>ROONS</td>\n",
       "      <td>1.147654</td>\n",
       "    </tr>\n",
       "    <tr>\n",
       "      <th>10</th>\n",
       "      <td>ROOPS</td>\n",
       "      <td>1.176106</td>\n",
       "    </tr>\n",
       "    <tr>\n",
       "      <th>11</th>\n",
       "      <td>ROOTS</td>\n",
       "      <td>1.034010</td>\n",
       "    </tr>\n",
       "    <tr>\n",
       "      <th>12</th>\n",
       "      <td>RORTS</td>\n",
       "      <td>1.122167</td>\n",
       "    </tr>\n",
       "    <tr>\n",
       "      <th>13</th>\n",
       "      <td>ROSTS</td>\n",
       "      <td>1.151249</td>\n",
       "    </tr>\n",
       "    <tr>\n",
       "      <th>14</th>\n",
       "      <td>ROTLS</td>\n",
       "      <td>1.092311</td>\n",
       "    </tr>\n",
       "    <tr>\n",
       "      <th>15</th>\n",
       "      <td>ROTOS</td>\n",
       "      <td>1.034010</td>\n",
       "    </tr>\n",
       "    <tr>\n",
       "      <th>16</th>\n",
       "      <td>ROULS</td>\n",
       "      <td>1.296436</td>\n",
       "    </tr>\n",
       "    <tr>\n",
       "      <th>17</th>\n",
       "      <td>ROUMS</td>\n",
       "      <td>1.296436</td>\n",
       "    </tr>\n",
       "    <tr>\n",
       "      <th>18</th>\n",
       "      <td>ROUPS</td>\n",
       "      <td>1.264161</td>\n",
       "    </tr>\n",
       "    <tr>\n",
       "      <th>19</th>\n",
       "      <td>ROUTS</td>\n",
       "      <td>1.041972</td>\n",
       "    </tr>\n",
       "    <tr>\n",
       "      <th>20</th>\n",
       "      <td>ROWTS</td>\n",
       "      <td>1.193545</td>\n",
       "    </tr>\n",
       "    <tr>\n",
       "      <th>21</th>\n",
       "      <td>RUBUS</td>\n",
       "      <td>1.466909</td>\n",
       "    </tr>\n",
       "    <tr>\n",
       "      <th>22</th>\n",
       "      <td>RUCKS</td>\n",
       "      <td>1.331036</td>\n",
       "    </tr>\n",
       "    <tr>\n",
       "      <th>23</th>\n",
       "      <td>RUDDS</td>\n",
       "      <td>1.367783</td>\n",
       "    </tr>\n",
       "    <tr>\n",
       "      <th>24</th>\n",
       "      <td>RUFFS</td>\n",
       "      <td>1.403568</td>\n",
       "    </tr>\n",
       "    <tr>\n",
       "      <th>25</th>\n",
       "      <td>RUKHS</td>\n",
       "      <td>1.302795</td>\n",
       "    </tr>\n",
       "    <tr>\n",
       "      <th>26</th>\n",
       "      <td>RUMPS</td>\n",
       "      <td>1.299620</td>\n",
       "    </tr>\n",
       "    <tr>\n",
       "      <th>27</th>\n",
       "      <td>RUNDS</td>\n",
       "      <td>1.200449</td>\n",
       "    </tr>\n",
       "    <tr>\n",
       "      <th>28</th>\n",
       "      <td>RUNGS</td>\n",
       "      <td>1.286839</td>\n",
       "    </tr>\n",
       "    <tr>\n",
       "      <th>29</th>\n",
       "      <td>RUNTS</td>\n",
       "      <td>0.924284</td>\n",
       "    </tr>\n",
       "    <tr>\n",
       "      <th>30</th>\n",
       "      <td>RURPS</td>\n",
       "      <td>1.273929</td>\n",
       "    </tr>\n",
       "    <tr>\n",
       "      <th>31</th>\n",
       "      <td>RURUS</td>\n",
       "      <td>1.382806</td>\n",
       "    </tr>\n",
       "    <tr>\n",
       "      <th>32</th>\n",
       "      <td>RUSHY</td>\n",
       "      <td>1.254316</td>\n",
       "    </tr>\n",
       "    <tr>\n",
       "      <th>33</th>\n",
       "      <td>RUSKS</td>\n",
       "      <td>1.251017</td>\n",
       "    </tr>\n",
       "    <tr>\n",
       "      <th>34</th>\n",
       "      <td>RUSTS</td>\n",
       "      <td>1.037999</td>\n",
       "    </tr>\n",
       "    <tr>\n",
       "      <th>35</th>\n",
       "      <td>RUSTY</td>\n",
       "      <td>0.980683</td>\n",
       "    </tr>\n",
       "    <tr>\n",
       "      <th>36</th>\n",
       "      <td>RUTHS</td>\n",
       "      <td>1.061616</td>\n",
       "    </tr>\n",
       "    <tr>\n",
       "      <th>37</th>\n",
       "      <td>RYNDS</td>\n",
       "      <td>1.816750</td>\n",
       "    </tr>\n",
       "    <tr>\n",
       "      <th>38</th>\n",
       "      <td>RYOTS</td>\n",
       "      <td>0.993243</td>\n",
       "    </tr>\n",
       "  </tbody>\n",
       "</table>\n",
       "</div>"
      ],
      "text/plain": [
       "    words       std\n",
       "0   ROCKS  1.449908\n",
       "1   ROLFS  1.376816\n",
       "2   ROLLS  1.464089\n",
       "3   ROMPS  1.340317\n",
       "4   RONTS  1.045930\n",
       "5   ROODS  1.217538\n",
       "6   ROOFS  1.251017\n",
       "7   ROOKS  1.169058\n",
       "8   ROOMS  1.214140\n",
       "9   ROONS  1.147654\n",
       "10  ROOPS  1.176106\n",
       "11  ROOTS  1.034010\n",
       "12  RORTS  1.122167\n",
       "13  ROSTS  1.151249\n",
       "14  ROTLS  1.092311\n",
       "15  ROTOS  1.034010\n",
       "16  ROULS  1.296436\n",
       "17  ROUMS  1.296436\n",
       "18  ROUPS  1.264161\n",
       "19  ROUTS  1.041972\n",
       "20  ROWTS  1.193545\n",
       "21  RUBUS  1.466909\n",
       "22  RUCKS  1.331036\n",
       "23  RUDDS  1.367783\n",
       "24  RUFFS  1.403568\n",
       "25  RUKHS  1.302795\n",
       "26  RUMPS  1.299620\n",
       "27  RUNDS  1.200449\n",
       "28  RUNGS  1.286839\n",
       "29  RUNTS  0.924284\n",
       "30  RURPS  1.273929\n",
       "31  RURUS  1.382806\n",
       "32  RUSHY  1.254316\n",
       "33  RUSKS  1.251017\n",
       "34  RUSTS  1.037999\n",
       "35  RUSTY  0.980683\n",
       "36  RUTHS  1.061616\n",
       "37  RYNDS  1.816750\n",
       "38  RYOTS  0.993243"
      ]
     },
     "execution_count": 184,
     "metadata": {},
     "output_type": "execute_result"
    }
   ],
   "source": [
    "calculate_std(df)"
   ]
  },
  {
   "cell_type": "code",
   "execution_count": 174,
   "id": "35f91187",
   "metadata": {},
   "outputs": [],
   "source": [
    "df = find_possible_wordles('ROCKS', 'GBBYB')"
   ]
  },
  {
   "cell_type": "code",
   "execution_count": 175,
   "id": "ffd4295e",
   "metadata": {},
   "outputs": [
    {
     "data": {
      "text/plain": [
       "array(['ROCKS', 'ROLFS', 'ROLLS', 'ROMPS', 'RONTS', 'ROODS', 'ROOFS',\n",
       "       'ROOKS', 'ROOMS', 'ROONS', 'ROOPS', 'ROOTS', 'RORTS', 'ROSTS',\n",
       "       'ROTLS', 'ROTOS', 'ROULS', 'ROUMS', 'ROUPS', 'ROUTS', 'ROWTS',\n",
       "       'RUBUS', 'RUCKS', 'RUDDS', 'RUFFS', 'RUKHS', 'RUMPS', 'RUNDS',\n",
       "       'RUNGS', 'RUNTS', 'RURPS', 'RURUS', 'RUSHY', 'RUSKS', 'RUSTS',\n",
       "       'RUSTY', 'RUTHS', 'RYNDS', 'RYOTS'], dtype=object)"
      ]
     },
     "execution_count": 175,
     "metadata": {},
     "output_type": "execute_result"
    }
   ],
   "source": [
    "df"
   ]
  },
  {
   "cell_type": "code",
   "execution_count": 168,
   "id": "3c571b58",
   "metadata": {},
   "outputs": [],
   "source": [
    "comb = combinations('RAISE', df)"
   ]
  },
  {
   "cell_type": "code",
   "execution_count": 161,
   "id": "01ba5139",
   "metadata": {},
   "outputs": [],
   "source": [
    "def find_possible_wordles(guess, output):\n",
    "    test = np.zeros(shape=(len(valid)),dtype='<U5')\n",
    "    for i, word in enumerate(valid):\n",
    "        test[i] = check(guess,word)\n",
    "    df = pd.DataFrame(data={'word':valid,'output':test}, dtype='<U5').set_index('word')\n",
    "    return df[df['output']==output].index.values"
   ]
  },
  {
   "cell_type": "code",
   "execution_count": 134,
   "id": "78e2cc6e",
   "metadata": {},
   "outputs": [
    {
     "data": {
      "text/plain": [
       "counts    19608.740741\n",
       "dtype: float64"
      ]
     },
     "execution_count": 134,
     "metadata": {},
     "output_type": "execute_result"
    }
   ],
   "source": [
    "abs(comb - len(valid)/243).sum()"
   ]
  },
  {
   "cell_type": "code",
   "execution_count": 402,
   "id": "8566559a",
   "metadata": {},
   "outputs": [
    {
     "data": {
      "text/plain": [
       "counts    0.160494\n",
       "dtype: float64"
      ]
     },
     "execution_count": 402,
     "metadata": {},
     "output_type": "execute_result"
    }
   ],
   "source": [
    "comb.mean() #mean is the same for all words, so variance should be a fine measure"
   ]
  },
  {
   "cell_type": "code",
   "execution_count": 136,
   "id": "6a3d1095",
   "metadata": {},
   "outputs": [
    {
     "data": {
      "text/plain": [
       "53.382716049382715"
      ]
     },
     "execution_count": 136,
     "metadata": {},
     "output_type": "execute_result"
    }
   ],
   "source": [
    "len(valid)/243"
   ]
  },
  {
   "cell_type": "code",
   "execution_count": 56,
   "id": "96d7cb79",
   "metadata": {},
   "outputs": [],
   "source": [
    "stds = np.array(std).flatten()"
   ]
  },
  {
   "cell_type": "code",
   "execution_count": 57,
   "id": "e667a09d",
   "metadata": {},
   "outputs": [
    {
     "data": {
      "text/plain": [
       "12972"
      ]
     },
     "execution_count": 57,
     "metadata": {},
     "output_type": "execute_result"
    }
   ],
   "source": [
    "len(stds)"
   ]
  },
  {
   "cell_type": "code",
   "execution_count": 72,
   "id": "b280e219",
   "metadata": {},
   "outputs": [],
   "source": [
    "pd.DataFrame(data={'words':valid,'std':stds}).to_csv('std.csv', index=False)"
   ]
  },
  {
   "cell_type": "code",
   "execution_count": 432,
   "id": "50cd0628",
   "metadata": {},
   "outputs": [
    {
     "name": "stdout",
     "output_type": "stream",
     "text": [
      "number of five letter words in dataset: 12972\n"
     ]
    }
   ],
   "source": [
    "valid = np.loadtxt('valid_words_2.txt', dtype='str')\n",
    "print('number of five letter words in dataset:',len(valid))\n",
    "stds = pd.read_csv('std.csv')"
   ]
  },
  {
   "cell_type": "code",
   "execution_count": 387,
   "id": "29e2bb94",
   "metadata": {},
   "outputs": [
    {
     "data": {
      "text/plain": [
       "counts    192\n",
       "dtype: int64"
      ]
     },
     "execution_count": 387,
     "metadata": {},
     "output_type": "execute_result"
    }
   ],
   "source": [
    "(combinations('LARES',valid)>0).sum()"
   ]
  },
  {
   "cell_type": "code",
   "execution_count": 393,
   "id": "623da86a",
   "metadata": {},
   "outputs": [
    {
     "data": {
      "text/plain": [
       "counts    212\n",
       "dtype: int64"
      ]
     },
     "execution_count": 393,
     "metadata": {},
     "output_type": "execute_result"
    }
   ],
   "source": [
    "(combinations('TARES',valid)>0).sum()"
   ]
  },
  {
   "cell_type": "code",
   "execution_count": 381,
   "id": "40c69e4a",
   "metadata": {},
   "outputs": [
    {
     "data": {
      "text/html": [
       "<div>\n",
       "<style scoped>\n",
       "    .dataframe tbody tr th:only-of-type {\n",
       "        vertical-align: middle;\n",
       "    }\n",
       "\n",
       "    .dataframe tbody tr th {\n",
       "        vertical-align: top;\n",
       "    }\n",
       "\n",
       "    .dataframe thead th {\n",
       "        text-align: right;\n",
       "    }\n",
       "</style>\n",
       "<table border=\"1\" class=\"dataframe\">\n",
       "  <thead>\n",
       "    <tr style=\"text-align: right;\">\n",
       "      <th></th>\n",
       "      <th>words</th>\n",
       "      <th>std</th>\n",
       "    </tr>\n",
       "  </thead>\n",
       "  <tbody>\n",
       "    <tr>\n",
       "      <th>6096</th>\n",
       "      <td>LARES</td>\n",
       "      <td>111.159282</td>\n",
       "    </tr>\n",
       "    <tr>\n",
       "      <th>8872</th>\n",
       "      <td>RALES</td>\n",
       "      <td>112.045582</td>\n",
       "    </tr>\n",
       "    <tr>\n",
       "      <th>11115</th>\n",
       "      <td>TARES</td>\n",
       "      <td>112.247281</td>\n",
       "    </tr>\n",
       "    <tr>\n",
       "      <th>7350</th>\n",
       "      <td>NARES</td>\n",
       "      <td>113.986323</td>\n",
       "    </tr>\n",
       "    <tr>\n",
       "      <th>8926</th>\n",
       "      <td>RATES</td>\n",
       "      <td>115.097038</td>\n",
       "    </tr>\n",
       "    <tr>\n",
       "      <th>11249</th>\n",
       "      <td>TERAS</td>\n",
       "      <td>115.932750</td>\n",
       "    </tr>\n",
       "    <tr>\n",
       "      <th>3261</th>\n",
       "      <td>EARLS</td>\n",
       "      <td>116.343560</td>\n",
       "    </tr>\n",
       "    <tr>\n",
       "      <th>11448</th>\n",
       "      <td>TOEAS</td>\n",
       "      <td>116.676380</td>\n",
       "    </tr>\n",
       "    <tr>\n",
       "      <th>6043</th>\n",
       "      <td>LAERS</td>\n",
       "      <td>117.057015</td>\n",
       "    </tr>\n",
       "    <tr>\n",
       "      <th>8967</th>\n",
       "      <td>REAIS</td>\n",
       "      <td>117.072970</td>\n",
       "    </tr>\n",
       "    <tr>\n",
       "      <th>537</th>\n",
       "      <td>ARLES</td>\n",
       "      <td>117.657112</td>\n",
       "    </tr>\n",
       "    <tr>\n",
       "      <th>8971</th>\n",
       "      <td>REALS</td>\n",
       "      <td>117.796915</td>\n",
       "    </tr>\n",
       "    <tr>\n",
       "      <th>11068</th>\n",
       "      <td>TALES</td>\n",
       "      <td>117.869507</td>\n",
       "    </tr>\n",
       "    <tr>\n",
       "      <th>3263</th>\n",
       "      <td>EARNS</td>\n",
       "      <td>118.345925</td>\n",
       "    </tr>\n",
       "    <tr>\n",
       "      <th>10364</th>\n",
       "      <td>SOARE</td>\n",
       "      <td>118.359332</td>\n",
       "    </tr>\n",
       "    <tr>\n",
       "      <th>6176</th>\n",
       "      <td>LEARS</td>\n",
       "      <td>118.689737</td>\n",
       "    </tr>\n",
       "    <tr>\n",
       "      <th>6083</th>\n",
       "      <td>LANES</td>\n",
       "      <td>118.802416</td>\n",
       "    </tr>\n",
       "    <tr>\n",
       "      <th>11183</th>\n",
       "      <td>TEARS</td>\n",
       "      <td>119.009434</td>\n",
       "    </tr>\n",
       "    <tr>\n",
       "      <th>8975</th>\n",
       "      <td>REANS</td>\n",
       "      <td>119.679003</td>\n",
       "    </tr>\n",
       "    <tr>\n",
       "      <th>1758</th>\n",
       "      <td>CARES</td>\n",
       "      <td>120.002297</td>\n",
       "    </tr>\n",
       "  </tbody>\n",
       "</table>\n",
       "</div>"
      ],
      "text/plain": [
       "       words         std\n",
       "6096   LARES  111.159282\n",
       "8872   RALES  112.045582\n",
       "11115  TARES  112.247281\n",
       "7350   NARES  113.986323\n",
       "8926   RATES  115.097038\n",
       "11249  TERAS  115.932750\n",
       "3261   EARLS  116.343560\n",
       "11448  TOEAS  116.676380\n",
       "6043   LAERS  117.057015\n",
       "8967   REAIS  117.072970\n",
       "537    ARLES  117.657112\n",
       "8971   REALS  117.796915\n",
       "11068  TALES  117.869507\n",
       "3263   EARNS  118.345925\n",
       "10364  SOARE  118.359332\n",
       "6176   LEARS  118.689737\n",
       "6083   LANES  118.802416\n",
       "11183  TEARS  119.009434\n",
       "8975   REANS  119.679003\n",
       "1758   CARES  120.002297"
      ]
     },
     "execution_count": 381,
     "metadata": {},
     "output_type": "execute_result"
    }
   ],
   "source": [
    "stds.sort_values('std').head(20)"
   ]
  },
  {
   "cell_type": "code",
   "execution_count": 137,
   "id": "8d2c696b",
   "metadata": {},
   "outputs": [],
   "source": [
    "# we need to make a 243x243? table "
   ]
  },
  {
   "cell_type": "code",
   "execution_count": 509,
   "id": "c05eac8b",
   "metadata": {},
   "outputs": [],
   "source": [
    "# # Finding combinations\n",
    "# from itertools import product\n",
    "# a = product(list('GYB'), repeat=5)\n",
    "# c = np.array([''.join(b) for b in a], '<U5')\n",
    "# np.savetxt('combinations.txt', c, fmt='%s')"
   ]
  }
 ],
 "metadata": {
  "kernelspec": {
   "display_name": "Python 3",
   "language": "python",
   "name": "python3"
  },
  "language_info": {
   "codemirror_mode": {
    "name": "ipython",
    "version": 3
   },
   "file_extension": ".py",
   "mimetype": "text/x-python",
   "name": "python",
   "nbconvert_exporter": "python",
   "pygments_lexer": "ipython3",
   "version": "3.6.13"
  }
 },
 "nbformat": 4,
 "nbformat_minor": 5
}
